{
 "cells": [
  {
   "cell_type": "code",
   "execution_count": 1,
   "id": "518459aa",
   "metadata": {},
   "outputs": [
    {
     "name": "stderr",
     "output_type": "stream",
     "text": [
      "None of PyTorch, TensorFlow >= 2.0, or Flax have been found. Models won't be available and only tokenizers, configuration and file/data utilities can be used.\n"
     ]
    }
   ],
   "source": [
    "from yak import Yak"
   ]
  },
  {
   "cell_type": "code",
   "execution_count": 2,
   "id": "8922fff7",
   "metadata": {},
   "outputs": [],
   "source": [
    "def get_rufus_cats_quanity(location:str) -> int:\n",
    "    \"\"\"\n",
    "    Returns how many cats rufus currently has in a specific location\n",
    "    \n",
    "    Args:\n",
    "        location: The location to check for cats\n",
    "    \"\"\"\n",
    "    cats = {\"New York\": 100, \"California\": 1000}\n",
    "    try:\n",
    "        answer = cats[location]\n",
    "    except KeyError:\n",
    "        return f\"I don't have any information about {location}\"\n",
    "    return answer"
   ]
  },
  {
   "cell_type": "code",
   "execution_count": 3,
   "id": "2b1c9381",
   "metadata": {},
   "outputs": [],
   "source": [
    "yak = Yak(\n",
    "    provider=\"mlx\",\n",
    "    # model_name=\"/Users/robertlaabs/.lmstudio/models/mlx-community/Qwen3-30B-A3B-8bit/\", \n",
    "    # model_name=\"/Users/robertlaabs/.lmstudio/models/mlx-community/SmolLM3-3B-8bit/\",\n",
    "    model_name=\"/Users/robertlaabs/.lmstudio/models/mlx-community/Qwen3-8B-4bit-DWQ-053125/\",\n",
    "    tools=[get_rufus_cats_quanity]\n",
    ")"
   ]
  },
  {
   "cell_type": "code",
   "execution_count": 4,
   "id": "d85565cd",
   "metadata": {},
   "outputs": [
    {
     "name": "stderr",
     "output_type": "stream",
     "text": [
      "Skipping tool message for LLM history - no preceding tool_calls found\n"
     ]
    }
   ],
   "source": [
    "response = yak.chat(\"How many cats does rufus have in new YYork?\")"
   ]
  },
  {
   "cell_type": "code",
   "execution_count": 5,
   "id": "14badd92",
   "metadata": {},
   "outputs": [
    {
     "name": "stdout",
     "output_type": "stream",
     "text": [
      "<think>\n",
      "Okay, the user asked how many cats Rufus has in New York. I called the get_rufus_cats_quanity function with the location set to \"New York\". The tool returned a result of 100. So, I need to present this answer clearly. Let me make sure to mention the location and the number. The user might be interested in knowing the exact count, so I'll state it directly. Also, maybe add a friendly note to let them know I'm here if they need more help. Let me check for any typos or errors. Everything looks good. Time to respond.\n",
      "</think>\n",
      "\n",
      "Rufus has **100 cats** in New York. Let me know if you need further assistance! 😺\n"
     ]
    }
   ],
   "source": [
    "print(response)"
   ]
  }
 ],
 "metadata": {
  "kernelspec": {
   "display_name": ".venv",
   "language": "python",
   "name": "python3"
  },
  "language_info": {
   "codemirror_mode": {
    "name": "ipython",
    "version": 3
   },
   "file_extension": ".py",
   "mimetype": "text/x-python",
   "name": "python",
   "nbconvert_exporter": "python",
   "pygments_lexer": "ipython3",
   "version": "3.13.1"
  }
 },
 "nbformat": 4,
 "nbformat_minor": 5
}
