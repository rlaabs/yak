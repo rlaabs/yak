{
 "cells": [
  {
   "cell_type": "code",
   "execution_count": 1,
   "id": "518459aa",
   "metadata": {},
   "outputs": [
    {
     "name": "stderr",
     "output_type": "stream",
     "text": [
      "None of PyTorch, TensorFlow >= 2.0, or Flax have been found. Models won't be available and only tokenizers, configuration and file/data utilities can be used.\n"
     ]
    }
   ],
   "source": [
    "from yak import Yak"
   ]
  },
  {
   "cell_type": "code",
   "execution_count": 2,
   "id": "2b1c9381",
   "metadata": {},
   "outputs": [],
   "source": [
    "yak = Yak(\n",
    "    provider=\"mlx\",\n",
    "    model_name=\"/Users/robertlaabs/.lmstudio/models/mlx-community/Qwen3-30B-A3B-8bit/\", \n",
    ")"
   ]
  },
  {
   "cell_type": "code",
   "execution_count": 4,
   "id": "d85565cd",
   "metadata": {},
   "outputs": [
    {
     "name": "stdout",
     "output_type": "stream",
     "text": [
      "<think>\n",
      "\n",
      "</think>\n",
      "\n",
      "The name of the cat was **Miso**.\n"
     ]
    }
   ],
   "source": [
    "print(yak.chat(\"What was the name of the cat? /nothink\"))"
   ]
  },
  {
   "cell_type": "code",
   "execution_count": null,
   "id": "460aa632",
   "metadata": {},
   "outputs": [],
   "source": []
  }
 ],
 "metadata": {
  "kernelspec": {
   "display_name": ".venv",
   "language": "python",
   "name": "python3"
  },
  "language_info": {
   "codemirror_mode": {
    "name": "ipython",
    "version": 3
   },
   "file_extension": ".py",
   "mimetype": "text/x-python",
   "name": "python",
   "nbconvert_exporter": "python",
   "pygments_lexer": "ipython3",
   "version": "3.13.1"
  }
 },
 "nbformat": 4,
 "nbformat_minor": 5
}
