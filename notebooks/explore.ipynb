{
 "cells": [
  {
   "cell_type": "code",
   "execution_count": null,
   "id": "37c5c7cb",
   "metadata": {},
   "outputs": [],
   "source": [
    "from yak import Yak\n",
    "from pydantic import BaseModel, Field\n",
    "from typing import List, Optional\n"
   ]
  },
  {
   "cell_type": "code",
   "execution_count": null,
   "id": "8f5c32a9",
   "metadata": {},
   "outputs": [],
   "source": [
    "def get_rufus_cats_quanity(location:str) -> int:\n",
    "    \"\"\"\n",
    "    Returns how many cats rufus currently has in a specific location\n",
    "    \"\"\"\n",
    "    cats = {\"New York\": 100, \"California\": 1000}\n",
    "    try:\n",
    "        answer = cats[location]\n",
    "    except KeyError:\n",
    "        return f\"I don't have any information about {location}\"\n",
    "    return answer"
   ]
  },
  {
   "cell_type": "code",
   "execution_count": null,
   "id": "c50a782c",
   "metadata": {},
   "outputs": [],
   "source": [
    "yak = Yak(\n",
    "    provider=\"openrouter\",\n",
    "    model_name=\"openai/gpt-4.1-mini\", \n",
    "    tools=[get_rufus_cats_quanity]\n",
    ")\n",
    "\n",
    "response = yak.chat(\"How many cats does rufus have in new york?\")"
   ]
  },
  {
   "cell_type": "code",
   "execution_count": null,
   "id": "8a143f67",
   "metadata": {},
   "outputs": [],
   "source": [
    "response"
   ]
  },
  {
   "cell_type": "code",
   "execution_count": null,
   "id": "0579bc74",
   "metadata": {},
   "outputs": [],
   "source": [
    "yak = Yak(\n",
    "    provider=\"openai\",\n",
    "    model_name=\"gpt-4.1-mini\", \n",
    "    tools=[get_rufus_cats_quanity]\n",
    ")\n",
    "\n",
    "response = yak.chat(\"How many cats does rufus have?\")"
   ]
  },
  {
   "cell_type": "code",
   "execution_count": null,
   "id": "1f15649c",
   "metadata": {},
   "outputs": [],
   "source": [
    "# yak = Yak(\n",
    "#     provider=\"openrouter\",\n",
    "#     model_name=\"openai/gpt-4.1-mini\", \n",
    "# )\n",
    "\n",
    "yak = Yak(\n",
    "    provider=\"openai\",\n",
    "    model_name=\"gpt-4.1-mini\", \n",
    ")\n",
    "\n",
    "\n",
    "class UserInfo(BaseModel):\n",
    "    \"\"\"Information about a user\"\"\"\n",
    "    name: str = Field(description=\"The user's full name\")\n",
    "    age: int = Field(description=\"The user's age\")\n",
    "    hobbies: List[str] = Field(description=\"List of the user's top 10 hobbies\")\n",
    "    email: Optional[str] = Field(description=\"The user's email address\", default=None)\n",
    "\n",
    "response = yak.chat(\n",
    "    \"Create a fictional user profile for John Doe who is 30 years old.\",\n",
    "    response_format=UserInfo\n",
    ")\n",
    "print(response)"
   ]
  }
 ],
 "metadata": {
  "kernelspec": {
   "display_name": ".venv",
   "language": "python",
   "name": "python3"
  },
  "language_info": {
   "codemirror_mode": {
    "name": "ipython",
    "version": 3
   },
   "file_extension": ".py",
   "mimetype": "text/x-python",
   "name": "python",
   "nbconvert_exporter": "python",
   "pygments_lexer": "ipython3",
   "version": "3.13.1"
  }
 },
 "nbformat": 4,
 "nbformat_minor": 5
}
